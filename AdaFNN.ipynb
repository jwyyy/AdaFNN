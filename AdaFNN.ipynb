{
 "cells": [
  {
   "cell_type": "markdown",
   "id": "2440e3d5",
   "metadata": {},
   "source": [
    "# Functional Neural Network with Adaptive Bases\n",
    "\n",
    "In this notewboook, we present a PyTorch implementation of the model proposed in \"Deep Learning for Functional Data Analysis with Adaptive Basis Layers\", ICML 2021."
   ]
  },
  {
   "cell_type": "markdown",
   "id": "2c3017f4",
   "metadata": {},
   "source": [
    "Unlike many functional networks, AdaFNNs take the raw functional data as input and learn to apply parsimonious dimension reduction that focuses only on information relevant to the target rather than irrelevant variation in the input. This operation is done through a noval _Basis Layer_ that consists of _basis nodes_ implemented as micro networks. In addition, the inference and training can be done in an end-to-end manner without preprocessing the data."
   ]
  },
  {
   "cell_type": "markdown",
   "id": "6affceee",
   "metadata": {},
   "source": [
    "# Implementing AdaFNNs"
   ]
  },
  {
   "cell_type": "markdown",
   "id": "2aca2c60",
   "metadata": {},
   "source": [
    "First, we provide the code for two building blocks, a layer normalization module and feedforward network module (with skipping connection). We start by import the necessary packages."
   ]
  },
  {
   "cell_type": "code",
   "execution_count": 1,
   "id": "b07e35d0",
   "metadata": {},
   "outputs": [],
   "source": [
    "import numpy as np\n",
    "import torch\n",
    "import torch.nn as nn\n",
    "import torch.nn.functional as F"
   ]
  },
  {
   "cell_type": "markdown",
   "id": "c730b770",
   "metadata": {},
   "source": [
    "### Layer Normalization\n",
    "\n",
    "The layer normalization was introduced in [Layer Normalization](https://arxiv.org/abs/1607.06450). It is a transposition of Batch Normalization. "
   ]
  },
  {
   "cell_type": "code",
   "execution_count": 2,
   "id": "8d7be4d5",
   "metadata": {},
   "outputs": [],
   "source": [
    "class LayerNorm(nn.Module):\n",
    "\n",
    "    def __init__(self, d, eps=1e-6):\n",
    "        super().__init__()\n",
    "        # d is the normalization dimension\n",
    "        self.d = d\n",
    "        self.eps = eps\n",
    "        self.alpha = nn.Parameter(torch.randn(d))\n",
    "        self.beta = nn.Parameter(torch.randn(d))\n",
    "\n",
    "    def forward(self, x):\n",
    "        # x is a torch.Tensor\n",
    "        # avg is the mean value of a layer\n",
    "        avg = x.mean(dim=-1, keepdim=True)\n",
    "        # std is the standard deviation of a layer (eps is added to prevent dividing by zero)\n",
    "        std = x.std(dim=-1, keepdim=True) + self.eps\n",
    "        return (x - avg) / std * self.alpha + self.beta"
   ]
  },
  {
   "cell_type": "markdown",
   "id": "8092aa37",
   "metadata": {},
   "source": [
    "Next, we implement a feedforward network module."
   ]
  },
  {
   "cell_type": "code",
   "execution_count": 3,
   "id": "4a6e44b4",
   "metadata": {},
   "outputs": [],
   "source": [
    "class FeedForward(nn.Module):\n",
    "\n",
    "    def __init__(self, in_d=1, hidden=[4,4,4], dropout=0.1, activation=F.relu):\n",
    "        # in_d      : input dimension, integer\n",
    "        # hidden    : hidden layer dimension, array of integers\n",
    "        # dropout   : dropout probability, a float between 0.0 and 1.0\n",
    "        # activation: activation function at each layer\n",
    "        super().__init__()\n",
    "        self.sigma = activation\n",
    "        dim = [in_d] + hidden + [1]\n",
    "        self.layers = nn.ModuleList([nn.Linear(dim[i-1], dim[i]) for i in range(1, len(dim))])\n",
    "        self.ln = nn.ModuleList([LayerNorm(k) for k in hidden])\n",
    "        self.dp = nn.ModuleList([nn.Dropout(dropout) for _ in range(len(hidden))])\n",
    "\n",
    "    def forward(self, t):\n",
    "        for i in range(len(self.layers)-1):\n",
    "            t = self.layers[i](t)\n",
    "            # skipping connection\n",
    "            t = t + self.ln[i](t)\n",
    "            t = self.sigma(t)\n",
    "            # apply dropout\n",
    "            t = self.dp[i](t)\n",
    "        # linear activation at the last layer\n",
    "        return self.layers[-1](t)"
   ]
  },
  {
   "cell_type": "markdown",
   "id": "58931d84",
   "metadata": {},
   "source": [
    "### Metric operations\n",
    "\n",
    "To build an AdaFNN, we need three new operations: (1) $\\langle f_1, f_2 \\rangle$ (2) $\\| f \\|_2$ and (3) $\\| f \\|_1$. The last two can be established on the first one through: \n",
    "\n",
    "$$ \\| f\\|_2 = \\sqrt{ \\langle f, f \\rangle} $$\n",
    "and \n",
    "$$ \\| f\\|_1 = \\langle 1, |f| \\rangle .$$"
   ]
  },
  {
   "cell_type": "markdown",
   "id": "02f6d199",
   "metadata": {},
   "source": [
    "Since the input is densely observed (equal spacing is not required), the inner product can be approximated by any numerical integration scheme. Here, we will use the [trapezoidal rule](https://en.wikipedia.org/wiki/Trapezoidal_rule)."
   ]
  },
  {
   "cell_type": "code",
   "execution_count": 4,
   "id": "e2409c51",
   "metadata": {},
   "outputs": [],
   "source": [
    "def _inner_product(f1, f2, h):\n",
    "    \"\"\"    \n",
    "    f1 - (B, J) : B functions, observed at J time points,\n",
    "    f2 - (B, J) : same as f1\n",
    "    h  - (J-1,1): weights used in the trapezoidal rule\n",
    "    pay attention to dimension\n",
    "    <f1, f2> = sum (h/2) (f1(t{j}) + f2(t{j+1}))\n",
    "    \"\"\"\n",
    "    prod = f1 * f2 # (B, J = len(h) + 1)\n",
    "    return torch.matmul((prod[:, :-1] + prod[:, 1:]), h.unsqueeze(dim=-1))/2"
   ]
  },
  {
   "cell_type": "markdown",
   "id": "b88e8f32",
   "metadata": {},
   "source": [
    "Then $L_1$ and $L_2$ can be easily implememnted as:"
   ]
  },
  {
   "cell_type": "code",
   "execution_count": 5,
   "id": "6f718d8a",
   "metadata": {},
   "outputs": [],
   "source": [
    "def _l1(f, h):\n",
    "    # f dimension : ( B bases, J )\n",
    "    B, J = f.size()\n",
    "    return _inner_product(torch.abs(f), torch.ones((K, J)), h)"
   ]
  },
  {
   "cell_type": "code",
   "execution_count": 6,
   "id": "43dca4c2",
   "metadata": {},
   "outputs": [],
   "source": [
    "def _l2(f, h):\n",
    "    # f dimension : ( B bases, J )\n",
    "    # output dimension - ( B bases, 1 )\n",
    "    return torch.sqrt(_inner_product(f, f, h)) "
   ]
  },
  {
   "cell_type": "markdown",
   "id": "0dae9e31",
   "metadata": {},
   "source": [
    "### AdaFNN\n",
    "\n",
    "To prevent the original scale of basis nodes from dominating regularizers, they are normalized.\n",
    "\n",
    "With these in hand, we are ready to present the AdaFNN implmentation. "
   ]
  },
  {
   "cell_type": "code",
   "execution_count": 7,
   "id": "223940df",
   "metadata": {},
   "outputs": [],
   "source": [
    "class AdaFNN(nn.Module):\n",
    "\n",
    "    def __init__(self, n_base=4, base_hidden=[64, 64, 64], grid=(0, 1),\n",
    "                 sub_hidden=[128, 128, 128], dropout=0.1, lambda1=0.0, lambda2=0.0,\n",
    "                 device=None):\n",
    "        \"\"\"\n",
    "        n_base      : number of basis nodes, integer\n",
    "        base_hidden : hidden layers used in each basis node, array of integers\n",
    "        grid        : observation time grid, array of sorted floats including 0.0 and 1.0\n",
    "        sub_hidden  : hidden layers in the subsequent network, array of integers\n",
    "        dropout     : dropout probability\n",
    "        lambda1     : penalty of L1 regularization, a positive real number\n",
    "        lambda2     : penalty of L2 regularization, a positive real number\n",
    "        device      : device for the training\n",
    "        \"\"\"\n",
    "        super().__init__()\n",
    "        self.n_base = n_base\n",
    "        self.lambda1 = lambda1\n",
    "        self.lambda2 = lambda2\n",
    "        self.device = device\n",
    "        # grid should include both end points\n",
    "        grid = np.array(grid)\n",
    "        # send the time grid tensor to device\n",
    "        self.t = torch.tensor(grid).to(device).float()\n",
    "        self.h = torch.tensor(grid[1:] - grid[:-1]).to(device).float()\n",
    "        # instantiate each basis node in the basis layer\n",
    "        self.BL = nn.ModuleList([FeedForward(1, hidden=base_hidden, dropout=dropout, activation=F.selu)\n",
    "                                 for _ in range(n_base)])\n",
    "        # instantiate the subsequent network\n",
    "        self.FF = FeedForward(n_base, sub_hidden, dropout)\n",
    "\n",
    "    def forward(self, x):\n",
    "        B, J = x.size()\n",
    "        assert J == self.h.size()[0] + 1\n",
    "        T = self.t.unsqueeze(dim=-1)\n",
    "        # evaluate the current basis nodes at time grid\n",
    "        self.bases = [basis(T).transpose(-1, -2) for basis in self.BL]\n",
    "        \"\"\"\n",
    "        compute each basis node's L2 norm\n",
    "        normalize basis nodes\n",
    "        \"\"\"\n",
    "        l2_norm = _l2(torch.cat(self.bases, dim=0), self.h).detach()\n",
    "        self.normalized_bases = [self.bases[i] / (l2_norm[i, 0] + 1e-6) for i in range(self.n_base)]\n",
    "        # compute each score <basis_i, f> \n",
    "        score = torch.cat([_inner_product(b.repeat((B, 1)), x, self.h) # (B, 1)\n",
    "                           for b in self.bases], dim=-1) # score dim = (B, n_base)\n",
    "        # take the tensor of scores into the subsequent network\n",
    "        out = self.FF(score)\n",
    "        return out\n",
    "\n",
    "    def R1(self, l1_k):\n",
    "        \"\"\"\n",
    "        L1 regularization\n",
    "        l1_k : number of basis nodes to regularize, integer        \n",
    "        \"\"\"\n",
    "        if self.lambda1 == 0: return torch.zeros(1).to(self.device)\n",
    "        # sample l1_k basis nodes to regularize\n",
    "        selected = np.random.choice(self.n_base, min(l1_k, self.n_base), replace=False)\n",
    "        selected_bases = torch.cat([self.normalized_bases[i] for i in selected], dim=0) # (k, J)\n",
    "        return self.lambda1 * torch.mean(_l1(selected_bases, self.h))\n",
    "\n",
    "    def R2(self, l2_pairs):\n",
    "        \"\"\"\n",
    "        L2 regularization\n",
    "        l2_pairs : number of pairs to regularize, integer  \n",
    "        \"\"\"\n",
    "        if self.lambda2 == 0 or self.n_base == 1: return torch.zeros(1).to(self.device)\n",
    "        k = min(l2_pairs, self.n_base * (self.n_base - 1) // 2)\n",
    "        f1, f2 = [None] * k, [None] * k\n",
    "        for i in range(k):\n",
    "            a, b = np.random.choice(self.n_base, 2, replace=False)\n",
    "            f1[i], f2[i] = self.normalized_bases[a], self.normalized_bases[b]\n",
    "        return self.lambda2 * torch.mean(torch.abs(_inner_product(torch.cat(f1, dim=0),\n",
    "                                                                  torch.cat(f2, dim=0),\n",
    "                                                                  self.h)))"
   ]
  },
  {
   "cell_type": "markdown",
   "id": "f0f6d739",
   "metadata": {},
   "source": [
    "#  Data"
   ]
  },
  {
   "cell_type": "markdown",
   "id": "2e652727",
   "metadata": {},
   "source": [
    "### Data Generator\n",
    "\n",
    "Data is generated based on the following model:\n",
    "\n",
    "$$ X(t) \\ = \\ \\sum_{k=1}^{50} c_k \\phi_k (t), \\quad t \\in [0,1] ,$$ \n",
    "where terms on the right hand side are defined as:\n",
    "\n",
    "1. $\\phi_1 (t) = 1$ and $ \\phi_k (t) = \\sqrt{2} \\cos ( (k-1) \\pi t)$ for $k = 2, \\dots, 50$.\n",
    "2. $c_k = z_k r_k$, and $r_k$ are i.i.d. uniform random variables on $[-\\sqrt{3}, \\sqrt{3}]$.\n",
    "\n",
    "Case 1: $z_1 = 20$, $z_2 = z_3 = 5$, and $z_k = 1$ for $k \\geq 4$. $y = \\big( \\langle \\phi_3, X \\rangle \\big)^2$.\n",
    "\n",
    "Case 2 and 3: $z_1 = z_3 = 5$, $z_5 = z_{10} = 3$, and $z_k = 1$ for other $k$. $y = \\big( \\langle \\phi_5, X \\rangle \\big)^2$.\n",
    "\n",
    "Case 4: $X$ has the same configurations as Case 2. But $y=\\langle \\beta_2, X \\rangle + \\big( \\langle \\beta_1, X \\rangle \\big)^2$ with\n",
    "\n",
    "$$ \\beta_1 (t) = (4 - 16t) \\cdot 1 \\big\\{ 0 \\leq t \\leq 1/4 \\big\\} $$\n",
    "and\n",
    "$$ \\beta_2 (t) = \\big( 4 - 16|t-1/2| \\big) \\cdot 1 \\big\\{ |t-1/2| \\leq 1/4 \\big\\} .$$\n",
    "\n",
    "For each time point $t$, the observed $X(t)$ may be contaminated by measurement error, i.e.\n",
    "\n",
    "$$ \\tilde{X} (t) = X (t) + \\eta_t, \\quad \\eta_t \\stackrel{i.i.d.}{\\sim} N (0, \\sigma^2_1) .$$\n",
    "\n",
    "The response $y$ may also have noise, i.e. $\\tilde{y} = y + \\epsilon$ where $\\epsilon \\stackrel{i.i.d.}{\\sim} N (0, \\sigma^2_2)$.\n"
   ]
  },
  {
   "cell_type": "markdown",
   "id": "5143e254",
   "metadata": {},
   "source": [
    "First, we import necessary dependencies."
   ]
  },
  {
   "cell_type": "code",
   "execution_count": 8,
   "id": "575c8aaf",
   "metadata": {},
   "outputs": [],
   "source": [
    "import numpy as np\n",
    "import pandas as pd\n",
    "from pathlib import Path"
   ]
  },
  {
   "cell_type": "markdown",
   "id": "45be7c3b",
   "metadata": {},
   "source": [
    "Next, we list configurations for each cases and implememnt functions for generating $X$ and $y$."
   ]
  },
  {
   "cell_type": "code",
   "execution_count": 9,
   "id": "5009dcc6",
   "metadata": {},
   "outputs": [],
   "source": [
    "z1 = [20, 5, 5] + [1] * 47\n",
    "z2 = [1] * 50\n",
    "z2[0] = z2[2] = 5\n",
    "z2[4] = z2[9] = 3\n",
    "Z = [z1, z2, z2, [1] * 50]\n",
    "\n",
    "\n",
    "def _phi(k):\n",
    "    if k == 1: return lambda t: np.ones((len(t),))\n",
    "    return lambda t : np.sqrt(2) * np.cos((k-1) * np.pi * t)\n",
    "\n",
    "\n",
    "def _b1(t):\n",
    "    return (4 - 16 * t) * (0 <= t) * (t <= 1/4)\n",
    "\n",
    "\n",
    "def _b2(t):\n",
    "    return (4 - 16 * np.abs(1/2 - t)) * (1/4 <= t) * (t <= 3/4)"
   ]
  },
  {
   "cell_type": "markdown",
   "id": "491d3a4e",
   "metadata": {},
   "source": [
    "The DataGenerator class generates data and save it to csv files."
   ]
  },
  {
   "cell_type": "code",
   "execution_count": 10,
   "id": "0bb165a7",
   "metadata": {},
   "outputs": [],
   "source": [
    "class DataGenerator:\n",
    "\n",
    "    def __init__(self, grid, case=1, me=1, err=1):\n",
    "        \"\"\"\n",
    "        grid : array of time points, floats\n",
    "        case : case number, integer\n",
    "        me   : variance of measurement error added to X, non-negative real value\n",
    "        err  : variance of noise added to Y, non-negative real value\n",
    "        \"\"\"\n",
    "        self.t = np.array(grid)\n",
    "        # measurement error\n",
    "        self.me = me\n",
    "        self.err = err\n",
    "        # case - 1\n",
    "        self.case = case\n",
    "        self.z = np.array(Z[case-1])\n",
    "\n",
    "    def generate(self, n=1000):\n",
    "        \"\"\"\n",
    "        n : number of subjects to generate, integer\n",
    "        \"\"\"\n",
    "        # X = sum c_k phi_k\n",
    "        # c_k = z_k r_k, r_k iid unif[-sqrt(3), sqrt(3)]\n",
    "        # generate r\n",
    "        r = np.random.uniform(low=-np.sqrt(3), high=np.sqrt(3), size=(n, 50))\n",
    "        c = r * self.z # (n, 50) elementwise multiplication\n",
    "        phi = np.array([_phi(k)(self.t) for k in range(1, 51)]) # (50, len(self.t))\n",
    "        X = np.matmul(c, phi) # (n, len(self.t))\n",
    "        Y = np.zeros((n, 1))\n",
    "        if self.case == 1:\n",
    "            Y = (c[:, 2]) ** 2\n",
    "        elif self.case == 4:\n",
    "            beta1 = _b1(self.t)\n",
    "            beta2 = _b2(self.t)\n",
    "            h = np.array(self.t[1:] - self.t[:-1]).T\n",
    "            for i in range(n):\n",
    "                Y[i, 0] = self._inner_product(beta2, X[i, :], h) + _inner_product(beta1, X[i, :], h) ** 2\n",
    "\n",
    "        else: # self.case = 2 or 3\n",
    "            Y = (c[:, 4]) ** 2        \n",
    "        self.X = X + np.random.normal(0, self.me, size=(n, len(self.t)))\n",
    "        self.Y = Y.reshape((n, 1)) + np.random.normal(0, self.err, size=(n, 1))\n",
    "        \n",
    "    def _inner_product(self, f1, f2, h):\n",
    "        prod = f1 * f2\n",
    "        if len(prod.shape) < 2:\n",
    "            prod = prod.reshape((1, -1))\n",
    "        res = np.matmul(prod[:, :-1] + prod[:, 1:], h) / 2\n",
    "        return res\n",
    "\n",
    "    def save(self, folder):\n",
    "        \"\"\"\n",
    "        folder : folder where observations are saved\n",
    "        \"\"\"\n",
    "        Path(folder).mkdir(parents=True, exist_ok=True)\n",
    "        X_df = pd.DataFrame(self.X)\n",
    "        Y_df = pd.DataFrame(self.Y)\n",
    "        T_df = pd.DataFrame(self.t.reshape((1, -1)))\n",
    "        X_df.to_csv(folder + \"X.csv\", index=False, header=None)\n",
    "        Y_df.to_csv(folder + \"Y.csv\", index=False, header=None)\n",
    "        T_df.to_csv(folder + \"T.csv\", index=False, header=None)"
   ]
  },
  {
   "cell_type": "markdown",
   "id": "3720e239",
   "metadata": {},
   "source": [
    "The time grid doesn't have to be equally spaced. The model works as long as the time gap is small enough for numerical integration to work well."
   ]
  },
  {
   "cell_type": "code",
   "execution_count": 11,
   "id": "98deebb2",
   "metadata": {},
   "outputs": [],
   "source": [
    "def random_grid(d=0.02):\n",
    "    \"\"\"\n",
    "    d : maximum time gap between two consecutive time points, float\n",
    "    \"\"\"\n",
    "    grid = [0.0]\n",
    "    while 1.0 - grid[-1] > d:\n",
    "        grid.append(grid[-1] + np.random.uniform(0, d, 1).item())\n",
    "    return grid + [1.0]"
   ]
  },
  {
   "cell_type": "markdown",
   "id": "ae58325a",
   "metadata": {},
   "source": [
    "### Data Loader\n",
    "\n",
    "This module reads the dataset from csv files and split it according to a pre-specific train/valid/test ratio. The dataset is standardized."
   ]
  },
  {
   "cell_type": "code",
   "execution_count": 12,
   "id": "fb3d8cd5",
   "metadata": {},
   "outputs": [],
   "source": [
    "from sklearn.preprocessing import StandardScaler\n",
    "\n",
    "class DataLoader:\n",
    "\n",
    "    def __init__(self, batch_size, X, Y, T, split=(8, 1, 1), random_seed=10294):        \n",
    "        \"\"\"\n",
    "        batch_size : batch size, integer\n",
    "        X - (n, J) : pandas.DataFrame for observed functional data, n - subject number, J - number of time points\n",
    "        Y - (n, 1) : pandas.DataFrame for response\n",
    "        split      : train/valid/test split\n",
    "        random_seed: random seed for training data re-shuffle\n",
    "        \"\"\"        \n",
    "        self.n, J = X.shape\n",
    "        self.t = T.iloc[0, :].to_numpy()\n",
    "        X, Y = X.values, Y.values\n",
    "\n",
    "        # train/valid/test split\n",
    "        self.batch_size = batch_size\n",
    "        train_n = self.n // sum(split) * split[0]\n",
    "        valid_n = self.n // sum(split) * split[1]\n",
    "        test_n = self.n - train_n - valid_n\n",
    "        self.train_B = train_n // batch_size\n",
    "        self.valid_B = valid_n // batch_size\n",
    "        self.test_B = test_n // batch_size\n",
    "\n",
    "        # random shuffle\n",
    "        np.random.seed(random_seed)\n",
    "        _order = list(range(self.n))\n",
    "        np.random.shuffle(_order)\n",
    "        X = X[_order, :]\n",
    "        Y = Y[_order, :]\n",
    "\n",
    "        # standardize dataset based on the training dataset\n",
    "        self.X_standardizer = StandardScaler()\n",
    "        self.Y_standardizer = StandardScaler()\n",
    "\n",
    "        # train/valid/test split\n",
    "        self.train_X = X[:(self.train_B * self.batch_size), :]\n",
    "        self.train_Y = Y[:(self.train_B * self.batch_size), :]\n",
    "        self.X_standardizer.fit(self.train_X)\n",
    "        self.Y_standardizer.fit(self.train_Y)\n",
    "        self.train_X = self.X_standardizer.transform(self.train_X)\n",
    "        self.train_Y = self.Y_standardizer.transform(self.train_Y)\n",
    "\n",
    "        self.valid_X = X[(self.train_B * self.batch_size):((self.train_B + self.valid_B) * self.batch_size), :]\n",
    "        self.valid_Y = Y[(self.train_B * self.batch_size):((self.train_B + self.valid_B) * self.batch_size), :]\n",
    "        self.valid_X = self.X_standardizer.transform(self.valid_X)\n",
    "        self.valid_Y = self.Y_standardizer.transform(self.valid_Y)\n",
    "\n",
    "        self.test_X = X[((self.train_B + self.valid_B) * self.batch_size):, :]\n",
    "        self.test_Y = Y[((self.train_B + self.valid_B) * self.batch_size):, :]\n",
    "        self.test_X = self.X_standardizer.transform(self.test_X)\n",
    "        self.test_Y = self.Y_standardizer.transform(self.test_Y)\n",
    "\n",
    "    def shuffle(self):\n",
    "        # re-shuffle the training dataset\n",
    "        train_size = self.train_X.shape[0]\n",
    "        new_order = list(range(train_size))\n",
    "        np.random.shuffle(new_order)\n",
    "        self.train_X = self.train_X[new_order, :]\n",
    "        self.train_Y = self.train_Y[new_order, :]\n",
    "\n",
    "    def _batch_generator(self, X, Y, N):\n",
    "\n",
    "        def generator_func():\n",
    "            for i in range(1, N):\n",
    "                x = X[((i - 1) * self.batch_size):((i) * self.batch_size), :]\n",
    "                y = Y[((i - 1) * self.batch_size):((i) * self.batch_size), :]\n",
    "\n",
    "                yield torch.Tensor(x), torch.Tensor(y)\n",
    "\n",
    "        return generator_func()\n",
    "\n",
    "    def get_train_batch(self):\n",
    "        return self._batch_generator(self.train_X, self.train_Y, self.train_B)\n",
    "\n",
    "    def get_valid_batch(self):\n",
    "        return self._batch_generator(self.valid_X, self.valid_Y, self.valid_B)\n",
    "\n",
    "    def get_test_batch(self):\n",
    "        return self._batch_generator(self.test_X, self.test_Y, self.test_B)"
   ]
  },
  {
   "cell_type": "markdown",
   "id": "cc49638f",
   "metadata": {},
   "source": [
    "# Training the model"
   ]
  },
  {
   "cell_type": "markdown",
   "id": "068ba9f4",
   "metadata": {},
   "source": [
    "First, we load necessary packages."
   ]
  },
  {
   "cell_type": "code",
   "execution_count": 13,
   "id": "9040ebf5",
   "metadata": {},
   "outputs": [],
   "source": [
    "import sys\n",
    "import torch\n",
    "import numpy as np\n",
    "import pandas as pd\n",
    "import matplotlib.pyplot as plt\n",
    "from pathlib import Path\n",
    "from torch.optim import Adam"
   ]
  },
  {
   "cell_type": "markdown",
   "id": "bfaef536",
   "metadata": {},
   "source": [
    "A dataset will be generated if it is not present. \n",
    "\n",
    "Here, we set the measurement error variance to be 1 and noise variance to be 0.2.\n",
    "\n",
    "**Note**: in this example, we use a flexible time point gap (**not** equal spacing). "
   ]
  },
  {
   "cell_type": "code",
   "execution_count": 14,
   "id": "9a6f7cc7",
   "metadata": {},
   "outputs": [],
   "source": [
    "if not Path(\"data\").is_dir():\n",
    "    d = 0.02\n",
    "    # tp = np.arange(0, 1 + d, d)\n",
    "    tp = random_grid(d)\n",
    "    DatGen = DataGenerator(tp, case=3, me=1.0, err=0.2)\n",
    "    DatGen.generate(4000)\n",
    "    DatGen.save(\"data/\")"
   ]
  },
  {
   "cell_type": "markdown",
   "id": "ac248ade",
   "metadata": {},
   "source": [
    "The dataset is loaded and split for training/validation/test."
   ]
  },
  {
   "cell_type": "code",
   "execution_count": 15,
   "id": "7d177bf7",
   "metadata": {},
   "outputs": [],
   "source": [
    "batch_size = 128\n",
    "split = (64, 16, 20)"
   ]
  },
  {
   "cell_type": "code",
   "execution_count": 16,
   "id": "ce9c71c4",
   "metadata": {},
   "outputs": [],
   "source": [
    "X = pd.read_csv(\"data/X.csv\", header=None)\n",
    "Y = pd.read_csv(\"data/Y.csv\", header=None)\n",
    "T = pd.read_csv(\"data/T.csv\", header=None)\n",
    "grid = T.iloc[0, :].to_list()\n",
    "dataLoader = DataLoader(batch_size,  X, Y, T, split)"
   ]
  },
  {
   "cell_type": "markdown",
   "id": "41d09fa1",
   "metadata": {},
   "source": [
    "Prepare the model and other training configurations:"
   ]
  },
  {
   "cell_type": "code",
   "execution_count": 17,
   "id": "79a0848f",
   "metadata": {},
   "outputs": [],
   "source": [
    "# set up CPU/GPU\n",
    "device = torch.device(\"cpu\") \n",
    "# model configuration\n",
    "\"\"\"\n",
    "You can use a different model by modifing base_hidden, sub_hidden, n_base.\n",
    "\"\"\"\n",
    "base_hidden = [256, 256, 256, 256]\n",
    "sub_hidden = [64, 64]\n",
    "n_base = 2\n",
    "lambda1, l1_k = 0.0, 2\n",
    "lambda2, l2_pairs = 0.0, 3\n",
    "dropout = 0.1\n",
    "save_model_every = 100\n",
    "model = AdaFNN(n_base=n_base,\n",
    "               base_hidden=base_hidden,\n",
    "               grid=grid,\n",
    "               sub_hidden=sub_hidden,\n",
    "               dropout=dropout,\n",
    "               lambda1=lambda1,\n",
    "               lambda2=lambda2,\n",
    "               device=device)\n",
    "# send model to CPU/GPU\n",
    "_ = model.to(device)"
   ]
  },
  {
   "cell_type": "code",
   "execution_count": 18,
   "id": "cf7301ca",
   "metadata": {},
   "outputs": [],
   "source": [
    "# training configuration\n",
    "epoch = 500\n",
    "pred_loss_train_history = []\n",
    "total_loss_train_history = []\n",
    "loss_valid_history = []\n",
    "# instantiate an optimizer\n",
    "optimizer = Adam(model.parameters(), lr=3e-4)\n",
    "# use MSE loss\n",
    "compute_loss = torch.nn.MSELoss()\n",
    "min_valid_loss = sys.maxsize"
   ]
  },
  {
   "cell_type": "markdown",
   "id": "564cc291",
   "metadata": {},
   "source": [
    "Create a folder to save checkpoints."
   ]
  },
  {
   "cell_type": "code",
   "execution_count": 19,
   "id": "593bd594",
   "metadata": {},
   "outputs": [],
   "source": [
    "folder = \"train/\"\n",
    "Path(folder).mkdir(parents=True, exist_ok=True)"
   ]
  },
  {
   "cell_type": "markdown",
   "id": "ee4e610e",
   "metadata": {},
   "source": [
    "Save and load models:"
   ]
  },
  {
   "cell_type": "code",
   "execution_count": 20,
   "id": "28319be1",
   "metadata": {},
   "outputs": [],
   "source": [
    "def save_model(folder, k, n_base, base_hidden, grid, sub_hidden, dropout, lambda1, lambda2, model, optimizer):\n",
    "    checkpoint = {'n_base': n_base,\n",
    "                  'base_hidden': base_hidden,\n",
    "                  'grid': grid,\n",
    "                  'sub_hidden': sub_hidden,\n",
    "                  'dropout': dropout,\n",
    "                  'lambda1' : lambda1,\n",
    "                  'lambda2' : lambda2,\n",
    "                  'state_dict': model.state_dict(),\n",
    "                  'optimizer': optimizer.state_dict()}\n",
    "    torch.save(checkpoint, folder + str(k) + '_' + 'checkpoint.pth')\n",
    "\n",
    "\n",
    "def load_model(file_path, device):\n",
    "    checkpoint = torch.load(file_path)\n",
    "    model = AdaFNN(n_base=checkpoint['n_base'],\n",
    "                   base_hidden=checkpoint['base_hidden'],\n",
    "                   grid=checkpoint['grid'],\n",
    "                   sub_hidden=checkpoint['sub_hidden'],\n",
    "                   dropout=checkpoint['dropout'],\n",
    "                   lambda1=checkpoint['lambda1'],\n",
    "                   lambda2=checkpoint['lambda2'],\n",
    "                   device=device)\n",
    "    model.load_state_dict(checkpoint['state_dict'])\n",
    "    _ = model.to(device)\n",
    "    return model, checkpoint['grid']"
   ]
  },
  {
   "cell_type": "markdown",
   "id": "b74ef584",
   "metadata": {},
   "source": [
    "Training procedure:"
   ]
  },
  {
   "cell_type": "code",
   "execution_count": 21,
   "id": "235a85eb",
   "metadata": {
    "scrolled": true
   },
   "outputs": [
    {
     "name": "stdout",
     "output_type": "stream",
     "text": [
      "epoch: 50 \n",
      " prediction training loss =  1.0154781498407062 validation loss =  1.0465858727693558\n",
      "epoch: 100 \n",
      " prediction training loss =  1.0015029593517906 validation loss =  1.0471055209636688\n",
      "epoch: 150 \n",
      " prediction training loss =  0.9962057094824942 validation loss =  1.0458548069000244\n",
      "epoch: 200 \n",
      " prediction training loss =  1.0002882731588263 validation loss =  1.048196330666542\n",
      "epoch: 250 \n",
      " prediction training loss =  1.0004546924641258 validation loss =  1.0476673245429993\n",
      "epoch: 300 \n",
      " prediction training loss =  0.1560676419421246 validation loss =  0.07313084974884987\n",
      "epoch: 350 \n",
      " prediction training loss =  0.07656111411358181 validation loss =  0.02968929149210453\n",
      "epoch: 400 \n",
      " prediction training loss =  0.07618642519963414 validation loss =  0.03621307108551264\n",
      "epoch: 450 \n",
      " prediction training loss =  0.054635992959926 validation loss =  0.029769226908683777\n",
      "epoch: 500 \n",
      " prediction training loss =  0.06589307126246001 validation loss =  0.02826645039021969\n"
     ]
    }
   ],
   "source": [
    "for k in range(epoch):\n",
    "\n",
    "    if k and k % save_model_every == 0:\n",
    "        save_model(folder, k, n_base, base_hidden, grid, sub_hidden, dropout, lambda1, lambda2, model, optimizer)\n",
    "\n",
    "    pred_loss_train = []\n",
    "    total_loss_train = []\n",
    "    loss_valid = []\n",
    "    dataLoader.shuffle()\n",
    "    # set model training state\n",
    "    model.train()\n",
    "\n",
    "    for i, (x, y) in enumerate(dataLoader.get_train_batch()):\n",
    "        x, y = x.to(device), y.to(device)\n",
    "        out = model.forward(x)\n",
    "        loss_pred = compute_loss(out, y)\n",
    "        loss = loss_pred + model.R1(l1_k) + model.R2(l2_pairs)\n",
    "        # record training loss history\n",
    "        total_loss_train.append(loss.item())\n",
    "        pred_loss_train.append(loss_pred.item())\n",
    "\n",
    "        # update parameters using backpropagation\n",
    "        optimizer.zero_grad()\n",
    "        loss.backward()\n",
    "        optimizer.step()\n",
    "\n",
    "    total_loss_train_history.append(np.mean(total_loss_train))\n",
    "    pred_loss_train_history.append(np.mean(pred_loss_train))\n",
    "\n",
    "    # model evaluation mode\n",
    "\n",
    "    with torch.no_grad():\n",
    "        model.eval()\n",
    "        for x, y in dataLoader.get_valid_batch():\n",
    "            x, y = x.to(device), y.to(device)\n",
    "            valid_y = model.forward(x)\n",
    "            valid_loss = compute_loss(valid_y, y)\n",
    "            # print(\"valid - check out: \", check_tensor([valid_loss]))\n",
    "            loss_valid.append(valid_loss.item())\n",
    "\n",
    "    if np.mean(loss_valid) < min_valid_loss:\n",
    "        save_model(folder, \"best\", n_base, base_hidden, grid, sub_hidden, dropout, lambda1, lambda2, model, optimizer)\n",
    "        min_valid_loss = np.mean(loss_valid)\n",
    "\n",
    "    loss_valid_history.append(np.mean(loss_valid))\n",
    "    \n",
    "    if (k+1) % 50 == 0:\n",
    "        print(\"epoch:\", k+1, \"\\n\",\n",
    "              \"prediction training loss = \", pred_loss_train_history[-1],\n",
    "              \"validation loss = \", loss_valid_history[-1])"
   ]
  },
  {
   "cell_type": "markdown",
   "id": "840fa063",
   "metadata": {},
   "source": [
    "Please note that the validation error was computed after a training epoch was complete. So the validation error is generally smaller than the training error. "
   ]
  },
  {
   "cell_type": "markdown",
   "id": "7242dd67",
   "metadata": {},
   "source": [
    "Make a loss plot after training finishes."
   ]
  },
  {
   "cell_type": "code",
   "execution_count": 22,
   "id": "d62cf2f1",
   "metadata": {
    "scrolled": true
   },
   "outputs": [
    {
     "data": {
      "text/plain": [
       "<matplotlib.legend.Legend at 0x13928cad0>"
      ]
     },
     "execution_count": 22,
     "metadata": {},
     "output_type": "execute_result"
    },
    {
     "data": {
      "image/png": "[encoded data removed]",
      "text/plain": [
       "<Figure size 432x288 with 1 Axes>"
      ]
     },
     "metadata": {
      "needs_background": "light"
     },
     "output_type": "display_data"
    }
   ],
   "source": [
    "plt.plot(list(range(1, epoch+1)), total_loss_train_history, label='train_total')\n",
    "plt.plot(list(range(1, epoch+1)), pred_loss_train_history, label='train_pred')\n",
    "plt.xlabel('epoch')\n",
    "plt.ylabel('MSE loss')\n",
    "plt.legend()\n",
    "# plt.savefig('loss_plot.png')\n",
    "# plt.close()"
   ]
  },
  {
   "cell_type": "markdown",
   "id": "1085d369",
   "metadata": {},
   "source": [
    "After training, to make predictions, we can load the best model and run it on the (test) dataset."
   ]
  },
  {
   "cell_type": "code",
   "execution_count": 21,
   "id": "b2b0a693",
   "metadata": {},
   "outputs": [],
   "source": [
    "def make_prediction(dataLoader, device=torch.device(\"cpu\"), folder=\"train/\"):\n",
    "    ck = folder + \"best_checkpoint.pth\"\n",
    "    # load the best model\n",
    "    model, t = load_model(ck, device)\n",
    "    T = torch.tensor(t).to(device)\n",
    "    t = np.array(t)\n",
    "    \n",
    "    loss_test  = []\n",
    "    y_pred = []\n",
    "    \n",
    "    with torch.no_grad():\n",
    "        model.eval()\n",
    "        \"\"\"\n",
    "        Get the performance of the best train model on test dataset\n",
    "        \"\"\"\n",
    "        for x, y in dataLoader.get_test_batch():\n",
    "            x, y = x.to(device), y.to(device)\n",
    "            test_y = model.forward(x)\n",
    "            y_pred.extend(test_y.detach().cpu().numpy().tolist())\n",
    "            test_loss = compute_loss(test_y, y)\n",
    "            loss_test.append(test_loss.item())        \n",
    "        \n",
    "    \"\"\"\n",
    "    Compute the MSE of the test dataset\n",
    "    \"\"\"\n",
    "    print(\"test accuracy MSE :\", np.mean(loss_test))\n",
    "    \n",
    "    \"\"\"\n",
    "    return the predicted y values by re-scaling the model output\n",
    "    \"\"\"\n",
    "    \n",
    "    return dataLoader.Y_standardizer.inverse_transform(y_pred)\n"
   ]
  },
  {
   "cell_type": "code",
   "execution_count": 22,
   "id": "815c040b",
   "metadata": {
    "scrolled": true
   },
   "outputs": [
    {
     "name": "stdout",
     "output_type": "stream",
     "text": [
      "test accuracy MSE : 0.019440349750220777\n"
     ]
    }
   ],
   "source": [
    "y_pred = make_prediction(dataLoader)"
   ]
  },
  {
   "cell_type": "markdown",
   "id": "c603e3a6",
   "metadata": {},
   "source": [
    "We can plot the learned bases."
   ]
  },
  {
   "cell_type": "code",
   "execution_count": 23,
   "id": "ee342b0b",
   "metadata": {},
   "outputs": [],
   "source": [
    "def plot_bases( device=torch.device(\"cpu\"), folder=\"train/\"):\n",
    "    ck = folder + \"best_checkpoint.pth\"\n",
    "    model, t = load_model(ck, device)\n",
    "    T = torch.tensor(t).to(device)\n",
    "    t = np.array(t)\n",
    "\n",
    "    bases = []\n",
    "    \n",
    "    loss_test  = []\n",
    "    \n",
    "    with torch.no_grad():\n",
    "        model.eval()\n",
    "        \n",
    "        for i, basis in enumerate(model.BL):\n",
    "            T = T.unsqueeze(dim=-1)\n",
    "            y = np.squeeze(basis(T).squeeze(dim=-1).detach().cpu().numpy())\n",
    "            y_sq = y ** 2\n",
    "            l2_norm = np.sqrt(np.sum((y_sq[:-1] + y_sq[1:]) * (t[1:] - t[:-1])) / 2)\n",
    "            bases.append(y / l2_norm)\n",
    "\n",
    "    B = len(bases)\n",
    "    fig, axs = plt.subplots(1, B)\n",
    "    plt.xticks(fontsize=10)\n",
    "    plt.yticks(fontsize=10)\n",
    "    for i in range(B):        \n",
    "        axs[i].plot(t, bases[i], linewidth=3.5, label=\"basis\"+str(i+1))\n",
    "        axs[i].legend()\n",
    "    \n",
    "    return bases\n"
   ]
  },
  {
   "cell_type": "code",
   "execution_count": 24,
   "id": "9537c10c",
   "metadata": {
    "scrolled": false
   },
   "outputs": [
    {
     "data": {
      "image/png": "[encoded data removed]",
      "text/plain": [
       "<Figure size 432x288 with 2 Axes>"
      ]
     },
     "metadata": {
      "needs_background": "light"
     },
     "output_type": "display_data"
    }
   ],
   "source": [
    "bases = plot_bases()"
   ]
  },
  {
   "cell_type": "markdown",
   "id": "27e98c55",
   "metadata": {},
   "source": [
    "Even when both measurement error and noise were present, using roughly 60% of the dataset, the model successfully captured the important features of the true signal $\\phi_5$. "
   ]
  },
  {
   "cell_type": "markdown",
   "id": "4c0f4735",
   "metadata": {},
   "source": [
    "To better understand the learned bases, we can also plot a linear combination of them and see what it looks compared to the true one."
   ]
  },
  {
   "cell_type": "code",
   "execution_count": 25,
   "id": "78791329",
   "metadata": {},
   "outputs": [],
   "source": [
    "def plot(t, y, color, label):\n",
    "    plt.xticks(fontsize=10)\n",
    "    plt.yticks(fontsize=10)\n",
    "    plt.plot(t, y, linewidth=3.5, color=color, label=label)\n",
    "    plt.legend()"
   ]
  },
  {
   "cell_type": "markdown",
   "id": "037dca72",
   "metadata": {},
   "source": [
    "The coefficients of learned bases can vary in different experiments (see Theorem 1 and Remark 1 in the paper)."
   ]
  },
  {
   "cell_type": "code",
   "execution_count": 26,
   "id": "40607256",
   "metadata": {
    "scrolled": true
   },
   "outputs": [
    {
     "data": {
      "image/png": "[encoded data removed]",
      "text/plain": [
       "<Figure size 432x288 with 1 Axes>"
      ]
     },
     "metadata": {
      "needs_background": "light"
     },
     "output_type": "display_data"
    }
   ],
   "source": [
    "np_b = [np.array(b) for b in bases]\n",
    "lin = np_b[0] + 0.4 * np_b[1] \n",
    "plot(grid, lin, \"orangered\", \"learned basi12 + 0.4 * basis2\")"
   ]
  },
  {
   "cell_type": "markdown",
   "id": "7b646673",
   "metadata": {},
   "source": [
    "The true signal $\\phi_5$ in Case 3 is drawn below. We can see that two bases learned the truth successfully."
   ]
  },
  {
   "cell_type": "code",
   "execution_count": 27,
   "id": "276a99f7",
   "metadata": {
    "scrolled": false
   },
   "outputs": [
    {
     "data": {
      "image/png": "[encoded data removed]",
      "text/plain": [
       "<Figure size 432x288 with 1 Axes>"
      ]
     },
     "metadata": {
      "needs_background": "light"
     },
     "output_type": "display_data"
    }
   ],
   "source": [
    "phi5 = _phi(5)\n",
    "plot(grid, phi5(np.array(grid)), \"green\", \"true phi5\")"
   ]
  },
  {
   "cell_type": "code",
   "execution_count": null,
   "id": "f10ec934",
   "metadata": {},
   "outputs": [],
   "source": []
  },
  {
   "cell_type": "code",
   "execution_count": null,
   "id": "843b446d",
   "metadata": {},
   "outputs": [],
   "source": []
  }
 ],
 "metadata": {
  "kernelspec": {
   "display_name": "Python 3",
   "language": "python",
   "name": "python3"
  },
  "language_info": {
   "codemirror_mode": {
    "name": "ipython",
    "version": 3
   },
   "file_extension": ".py",
   "mimetype": "text/x-python",
   "name": "python",
   "nbconvert_exporter": "python",
   "pygments_lexer": "ipython3",
   "version": "3.7.4"
  }
 },
 "nbformat": 4,
 "nbformat_minor": 5
}
